{
  "nbformat": 4,
  "nbformat_minor": 0,
  "metadata": {
    "colab": {
      "name": "2.8 libreria NumPy.ipynb",
      "provenance": []
    },
    "kernelspec": {
      "name": "python3",
      "display_name": "Python 3"
    },
    "language_info": {
      "name": "python"
    }
  },
  "cells": [
    {
      "cell_type": "markdown",
      "source": [
        "#FUNCIONES BASICAS"
      ],
      "metadata": {
        "id": "eCfWUhih2HDe"
      }
    },
    {
      "cell_type": "code",
      "execution_count": 9,
      "metadata": {
        "id": "vHC9HmTsoSVT"
      },
      "outputs": [],
      "source": [
        "import numpy as np\n",
        "import matplotlib.pyplot as plt"
      ]
    },
    {
      "cell_type": "code",
      "source": [
        "a = np.array([[0, 1, 2], [3, 4, 5]])\n",
        "a"
      ],
      "metadata": {
        "colab": {
          "base_uri": "https://localhost:8080/"
        },
        "id": "8qnoSwwK09-e",
        "outputId": "5bf7e6e9-c67a-4970-9941-165681fcedb9"
      },
      "execution_count": 11,
      "outputs": [
        {
          "output_type": "execute_result",
          "data": {
            "text/plain": [
              "array([[0, 1, 2],\n",
              "       [3, 4, 5]])"
            ]
          },
          "metadata": {},
          "execution_count": 11
        }
      ]
    },
    {
      "cell_type": "code",
      "source": [
        "a.shape #dimension del arreglo"
      ],
      "metadata": {
        "colab": {
          "base_uri": "https://localhost:8080/"
        },
        "id": "0GtSXzLv2Gev",
        "outputId": "59e92eb2-c5fc-4185-94fd-d04c606603de"
      },
      "execution_count": 12,
      "outputs": [
        {
          "output_type": "execute_result",
          "data": {
            "text/plain": [
              "(2, 3)"
            ]
          },
          "metadata": {},
          "execution_count": 12
        }
      ]
    },
    {
      "cell_type": "code",
      "source": [
        "a.size #numero total de elementos dentro del arreglo"
      ],
      "metadata": {
        "colab": {
          "base_uri": "https://localhost:8080/"
        },
        "id": "rV191AEN4iQW",
        "outputId": "df952518-b9b6-425c-f825-053a8fa629ed"
      },
      "execution_count": 13,
      "outputs": [
        {
          "output_type": "execute_result",
          "data": {
            "text/plain": [
              "6"
            ]
          },
          "metadata": {},
          "execution_count": 13
        }
      ]
    },
    {
      "cell_type": "code",
      "source": [
        "len(a) #numero de ejes del arreglo"
      ],
      "metadata": {
        "colab": {
          "base_uri": "https://localhost:8080/"
        },
        "id": "fVJFWCXA4qGo",
        "outputId": "27508155-d5a5-4f31-e224-dd2aebbd6b2c"
      },
      "execution_count": 14,
      "outputs": [
        {
          "output_type": "execute_result",
          "data": {
            "text/plain": [
              "2"
            ]
          },
          "metadata": {},
          "execution_count": 14
        }
      ]
    },
    {
      "cell_type": "code",
      "source": [
        "np.arange(6, 20, 2) #creacion de sucesiones de numeros en forma de arreglos en ves de lista"
      ],
      "metadata": {
        "colab": {
          "base_uri": "https://localhost:8080/"
        },
        "id": "f9VD9-Mh4zJi",
        "outputId": "d058df66-6b59-457d-d05a-7e4f1a7f8981"
      },
      "execution_count": 15,
      "outputs": [
        {
          "output_type": "execute_result",
          "data": {
            "text/plain": [
              "array([ 6,  8, 10, 12, 14, 16, 18])"
            ]
          },
          "metadata": {},
          "execution_count": 15
        }
      ]
    },
    {
      "cell_type": "code",
      "source": [
        "a < 3 # condicion donde regresa una respuesta booleana [0, 1, 2] [3, 4, 5]"
      ],
      "metadata": {
        "colab": {
          "base_uri": "https://localhost:8080/"
        },
        "id": "MbEGRAhw5U8E",
        "outputId": "471edc90-609d-45c9-ee45-96e627d65a2d"
      },
      "execution_count": 16,
      "outputs": [
        {
          "output_type": "execute_result",
          "data": {
            "text/plain": [
              "array([[ True,  True,  True],\n",
              "       [False, False, False]])"
            ]
          },
          "metadata": {},
          "execution_count": 16
        }
      ]
    },
    {
      "cell_type": "markdown",
      "source": [
        "##RESTA, MULTIPLICACION Y POTENCIA"
      ],
      "metadata": {
        "id": "E9TtBT1m-Hw0"
      }
    },
    {
      "cell_type": "code",
      "source": [
        "z = np.array([2, 4, 6, 8])\n",
        "x = np.array([1, 1, 1, 1])"
      ],
      "metadata": {
        "id": "oMswhepp51oW"
      },
      "execution_count": 17,
      "outputs": []
    },
    {
      "cell_type": "code",
      "source": [
        "y = z - x\n",
        "y"
      ],
      "metadata": {
        "colab": {
          "base_uri": "https://localhost:8080/"
        },
        "id": "a8VAOomS-Q8b",
        "outputId": "e2b0bb24-365a-49f6-bb7c-8e2df9920fe2"
      },
      "execution_count": 18,
      "outputs": [
        {
          "output_type": "execute_result",
          "data": {
            "text/plain": [
              "array([1, 3, 5, 7])"
            ]
          },
          "metadata": {},
          "execution_count": 18
        }
      ]
    },
    {
      "cell_type": "code",
      "source": [
        "y = z + x\n",
        "y"
      ],
      "metadata": {
        "colab": {
          "base_uri": "https://localhost:8080/"
        },
        "id": "6qXSGNAi-XEW",
        "outputId": "4a0c6f1b-4f86-4e22-a902-6b8ae7187098"
      },
      "execution_count": 19,
      "outputs": [
        {
          "output_type": "execute_result",
          "data": {
            "text/plain": [
              "array([3, 5, 7, 9])"
            ]
          },
          "metadata": {},
          "execution_count": 19
        }
      ]
    },
    {
      "cell_type": "code",
      "source": [
        "y = z * x\n",
        "y"
      ],
      "metadata": {
        "colab": {
          "base_uri": "https://localhost:8080/"
        },
        "id": "n2GAsjZm-ekT",
        "outputId": "9983363b-afa5-4bdb-f77f-aac8bae7abee"
      },
      "execution_count": 20,
      "outputs": [
        {
          "output_type": "execute_result",
          "data": {
            "text/plain": [
              "array([2, 4, 6, 8])"
            ]
          },
          "metadata": {},
          "execution_count": 20
        }
      ]
    },
    {
      "cell_type": "code",
      "source": [
        "z**2 #[2, 4, 6, 8]"
      ],
      "metadata": {
        "colab": {
          "base_uri": "https://localhost:8080/"
        },
        "id": "aVgNuD4F-hpP",
        "outputId": "9d071a09-8387-45a9-967e-b4653ace5bf0"
      },
      "execution_count": 22,
      "outputs": [
        {
          "output_type": "execute_result",
          "data": {
            "text/plain": [
              "array([ 4, 16, 36, 64])"
            ]
          },
          "metadata": {},
          "execution_count": 22
        }
      ]
    },
    {
      "cell_type": "code",
      "source": [
        "z.sum() #suma de todo el arreglo en conjunto"
      ],
      "metadata": {
        "colab": {
          "base_uri": "https://localhost:8080/"
        },
        "id": "iWP9qhiM-tSo",
        "outputId": "60738cd4-090b-433d-aaf4-ce4a3b6c9d43"
      },
      "execution_count": 23,
      "outputs": [
        {
          "output_type": "execute_result",
          "data": {
            "text/plain": [
              "20"
            ]
          },
          "metadata": {},
          "execution_count": 23
        }
      ]
    },
    {
      "cell_type": "code",
      "source": [
        "z.min() #da el valor pequeño del arreglo"
      ],
      "metadata": {
        "colab": {
          "base_uri": "https://localhost:8080/"
        },
        "id": "QtH5bJxA_CO5",
        "outputId": "3ebcb192-b55f-4a0e-f1a9-d936a0f96d35"
      },
      "execution_count": 25,
      "outputs": [
        {
          "output_type": "execute_result",
          "data": {
            "text/plain": [
              "2"
            ]
          },
          "metadata": {},
          "execution_count": 25
        }
      ]
    },
    {
      "cell_type": "code",
      "source": [
        "z.max() #da el valor maximo del arreglo"
      ],
      "metadata": {
        "colab": {
          "base_uri": "https://localhost:8080/"
        },
        "id": "5xj3MJce_KNT",
        "outputId": "5fd8810a-203f-486e-e8b1-32b64679dd7e"
      },
      "execution_count": 26,
      "outputs": [
        {
          "output_type": "execute_result",
          "data": {
            "text/plain": [
              "8"
            ]
          },
          "metadata": {},
          "execution_count": 26
        }
      ]
    },
    {
      "cell_type": "code",
      "source": [
        "o = np.arange(10).reshape(5, 2) #muestra el arreglo en forma de columnas \n",
        "o"
      ],
      "metadata": {
        "colab": {
          "base_uri": "https://localhost:8080/"
        },
        "id": "Bb8a0KpH_L2I",
        "outputId": "b4bdeb8f-96a4-468f-c3ab-e6ecc9b41da5"
      },
      "execution_count": 28,
      "outputs": [
        {
          "output_type": "execute_result",
          "data": {
            "text/plain": [
              "array([[0, 1],\n",
              "       [2, 3],\n",
              "       [4, 5],\n",
              "       [6, 7],\n",
              "       [8, 9]])"
            ]
          },
          "metadata": {},
          "execution_count": 28
        }
      ]
    },
    {
      "cell_type": "code",
      "source": [
        "o.sum(axis=0) #suma cada columna "
      ],
      "metadata": {
        "colab": {
          "base_uri": "https://localhost:8080/"
        },
        "id": "1NxtRwI7_5nB",
        "outputId": "170feb47-2698-4e5a-d7fe-235a3ab87946"
      },
      "execution_count": 29,
      "outputs": [
        {
          "output_type": "execute_result",
          "data": {
            "text/plain": [
              "array([20, 25])"
            ]
          },
          "metadata": {},
          "execution_count": 29
        }
      ]
    },
    {
      "cell_type": "code",
      "source": [
        "o.min(axis=1) #muestra el minimo de cada fila"
      ],
      "metadata": {
        "colab": {
          "base_uri": "https://localhost:8080/"
        },
        "id": "zFvrKcScAarE",
        "outputId": "94a1ede6-c34e-4631-8c75-ecd0f919abb8"
      },
      "execution_count": 33,
      "outputs": [
        {
          "output_type": "execute_result",
          "data": {
            "text/plain": [
              "array([0, 2, 4, 6, 8])"
            ]
          },
          "metadata": {},
          "execution_count": 33
        }
      ]
    },
    {
      "cell_type": "code",
      "source": [
        "o.cumsum(axis=1) #suma acumulativa en la segunda columna"
      ],
      "metadata": {
        "colab": {
          "base_uri": "https://localhost:8080/"
        },
        "id": "5TwyrDJrAxbT",
        "outputId": "c2b62c6c-6387-486b-aca1-852efbc53088"
      },
      "execution_count": 35,
      "outputs": [
        {
          "output_type": "execute_result",
          "data": {
            "text/plain": [
              "array([[ 0,  1],\n",
              "       [ 2,  5],\n",
              "       [ 4,  9],\n",
              "       [ 6, 13],\n",
              "       [ 8, 17]])"
            ]
          },
          "metadata": {},
          "execution_count": 35
        }
      ]
    },
    {
      "cell_type": "markdown",
      "source": [
        "#ALGEBRA LINEAL"
      ],
      "metadata": {
        "id": "n1KuU3N3B3n0"
      }
    },
    {
      "cell_type": "code",
      "source": [
        "a.transpose() #fuciona el arreglo a con el b y los fuciona 0 con 0, 1 con 1 etc."
      ],
      "metadata": {
        "colab": {
          "base_uri": "https://localhost:8080/"
        },
        "id": "DVaIuf4YA5OT",
        "outputId": "39a98ef6-71d8-439d-a38e-9e43a771e3ad"
      },
      "execution_count": 36,
      "outputs": [
        {
          "output_type": "execute_result",
          "data": {
            "text/plain": [
              "array([[0, 3],\n",
              "       [1, 4],\n",
              "       [2, 5]])"
            ]
          },
          "metadata": {},
          "execution_count": 36
        }
      ]
    },
    {
      "cell_type": "code",
      "source": [
        "h = np.array([[5, 10], [20, 5]])"
      ],
      "metadata": {
        "id": "sczDUWT2DZMF"
      },
      "execution_count": 40,
      "outputs": []
    },
    {
      "cell_type": "code",
      "metadata": {
        "id": "h9UIRaZiaMYx",
        "colab": {
          "base_uri": "https://localhost:8080/"
        },
        "outputId": "5c65b102-6bd5-4e24-9f15-9994958dee09"
      },
      "source": [
        "np.linalg.inv(h) # inversa de una matriz"
      ],
      "execution_count": 41,
      "outputs": [
        {
          "output_type": "execute_result",
          "data": {
            "text/plain": [
              "array([[-0.02857143,  0.05714286],\n",
              "       [ 0.11428571, -0.02857143]])"
            ]
          },
          "metadata": {},
          "execution_count": 41
        }
      ]
    },
    {
      "cell_type": "code",
      "source": [
        "for element in a.flat: #el atributo flat es un iterador sobre todos los elementos del arreglo\n",
        "  print(element)"
      ],
      "metadata": {
        "colab": {
          "base_uri": "https://localhost:8080/"
        },
        "id": "x8Ke-xUNEOpx",
        "outputId": "dcfadb9b-4602-4050-e091-d5b0b5299fe5"
      },
      "execution_count": 42,
      "outputs": [
        {
          "output_type": "stream",
          "name": "stdout",
          "text": [
            "0\n",
            "1\n",
            "2\n",
            "3\n",
            "4\n",
            "5\n"
          ]
        }
      ]
    },
    {
      "cell_type": "markdown",
      "source": [
        "#GRAFICAS DE MATPLOTLIB"
      ],
      "metadata": {
        "id": "9aLxK1kQclG7"
      }
    },
    {
      "cell_type": "code",
      "source": [
        "Nombres = [\"Maria\", \"Pepe\", \"Laura\", \"Alberto\"] #grafica de barras\n",
        "plt.bar(Nombres, z)\n",
        "plt.title('Califiacion de examen')\n",
        "plt.xlabel('Nombres')\n",
        "plt.ylabel('Calificacion')\n",
        "plt.show()"
      ],
      "metadata": {
        "colab": {
          "base_uri": "https://localhost:8080/",
          "height": 295
        },
        "id": "_4KW5FwqRkeO",
        "outputId": "ff8eefac-5276-4a74-d485-5f71329fe790"
      },
      "execution_count": 45,
      "outputs": [
        {
          "output_type": "display_data",
          "data": {
            "text/plain": [
              "<Figure size 432x288 with 1 Axes>"
            ],
            "image/png": "[encoded data removed]"
          },
          "metadata": {
            "needs_background": "light"
          }
        }
      ]
    },
    {
      "cell_type": "code",
      "source": [
        "Nombres = [\"Maria\", \"Pepe\", \"Laura\", \"Alberto\"] # grafica de pastel\n",
        "plt.title('PORCENTAJE DE CALIFICACION DE EXAMEN')\n",
        "plt.pie(z, labels = Nombres, autopct=\"%0.1f %%\") #autopct es para darle porcentaje a nuestra grafica de pastel\n",
        "plt.show()"
      ],
      "metadata": {
        "colab": {
          "base_uri": "https://localhost:8080/",
          "height": 264
        },
        "id": "HlicxtvUT_Af",
        "outputId": "4dcff349-6c83-4609-952c-85ffa0825e0d"
      },
      "execution_count": 50,
      "outputs": [
        {
          "output_type": "display_data",
          "data": {
            "text/plain": [
              "<Figure size 432x288 with 1 Axes>"
            ],
            "image/png": "[encoded data removed]"
          },
          "metadata": {}
        }
      ]
    },
    {
      "cell_type": "code",
      "source": [
        "Nombres = [\"Maria\", \"Pepe\", \"Laura\", \"Alberto\"]\n",
        "Colores = [\"#FFB833\",\"#33FF8D\",\"#FF337D\",\"#80FF33\"] #cambiarle los colores ala grafica\n",
        "Desfase = [0, 0, 0, 0.1] #separar una parte de la grafica \n",
        "plt.figure(figsize=(5,5))\n",
        "plt.title('PORCENTAJE DE EXAMEN')\n",
        "plt.pie(z, labels = Nombres, autopct=\"%0.1f %%\", colors = Colores, explode = Desfase) #autopct es para darle porcentaje a nuestra grafica de pastel\n",
        "plt.show()"
      ],
      "metadata": {
        "colab": {
          "base_uri": "https://localhost:8080/",
          "height": 319
        },
        "id": "8FJKmmU0WwWe",
        "outputId": "820b09f5-171e-4fe9-f691-187338b6feee"
      },
      "execution_count": 51,
      "outputs": [
        {
          "output_type": "display_data",
          "data": {
            "text/plain": [
              "<Figure size 360x360 with 1 Axes>"
            ],
            "image/png": "[encoded data removed]"
          },
          "metadata": {}
        }
      ]
    },
    {
      "cell_type": "code",
      "source": [
        "fig, ax = plt.subplots()  #diagramas de linea\n",
        "plt.title('CALIFICACIONES')\n",
        "plt.xlabel('Alumnos')\n",
        "plt.ylabel('Calificaciones')\n",
        "ax.plot([10, 5, 8, 4, 7.5, 0, 10, 1])\n",
        "plt.show()"
      ],
      "metadata": {
        "colab": {
          "base_uri": "https://localhost:8080/",
          "height": 295
        },
        "id": "BOrcL_N3YKjG",
        "outputId": "374075fc-7b1c-434a-ef69-7726266b7943"
      },
      "execution_count": 72,
      "outputs": [
        {
          "output_type": "display_data",
          "data": {
            "text/plain": [
              "<Figure size 432x288 with 1 Axes>"
            ],
            "image/png": "[encoded data removed]"
          },
          "metadata": {
            "needs_background": "light"
          }
        }
      ]
    },
    {
      "cell_type": "code",
      "source": [
        "l = np.random.randn(50) # GRAFICA DE DISPERSION\n",
        "m = np.random.randn(50)\n",
        "fig, ax = plt.subplots()\n",
        "ax.scatter(l,m)\n",
        "plt.title('GRAFICA DE DISPERSION')\n",
        "plt.show()"
      ],
      "metadata": {
        "colab": {
          "base_uri": "https://localhost:8080/",
          "height": 281
        },
        "id": "Y_yp4y55hAKM",
        "outputId": "e8b97416-6333-4647-f9c0-1d0e204b08aa"
      },
      "execution_count": 75,
      "outputs": [
        {
          "output_type": "display_data",
          "data": {
            "text/plain": [
              "<Figure size 432x288 with 1 Axes>"
            ],
            "image/png": "[encoded data removed]"
          },
          "metadata": {
            "needs_background": "light"
          }
        }
      ]
    }
  ]
}