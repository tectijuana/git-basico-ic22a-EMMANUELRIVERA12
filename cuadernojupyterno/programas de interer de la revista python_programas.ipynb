{
  "metadata": {
    "language_info": {
      "codemirror_mode": {
        "name": "python",
        "version": 3
      },
      "file_extension": ".py",
      "mimetype": "text/x-python",
      "name": "python",
      "nbconvert_exporter": "python",
      "pygments_lexer": "ipython3",
      "version": "3.8"
    },
    "kernelspec": {
      "name": "python",
      "display_name": "Pyolite",
      "language": "python"
    }
  },
  "nbformat_minor": 4,
  "nbformat": 4,
  "cells": [
    {
      "cell_type": "markdown",
      "source": "# PROGRAMAS DE MI INTERES DE LA REVISTA DE PYTHON",
      "metadata": {}
    },
    {
      "cell_type": "markdown",
      "source": "## EMMANUEL LEON RIVERA",
      "metadata": {}
    },
    {
      "cell_type": "code",
      "source": "import calendar\nmarzo=calendar.TextCalendar(calendar.SUNDAY)\nmarzo.prmonth(2022,3)",
      "metadata": {
        "trusted": true
      },
      "execution_count": 1,
      "outputs": [
        {
          "name": "stdout",
          "text": "     March 2022\nSu Mo Tu We Th Fr Sa\n       1  2  3  4  5\n 6  7  8  9 10 11 12\n13 14 15 16 17 18 19\n20 21 22 23 24 25 26\n27 28 29 30 31\n",
          "output_type": "stream"
        }
      ]
    },
    {
      "cell_type": "code",
      "source": "import math\nprint(\"valores predeterminados de euler y pi son: \")\nprint(math.e)\nprint(math.pi)",
      "metadata": {
        "trusted": true
      },
      "execution_count": 2,
      "outputs": [
        {
          "name": "stdout",
          "text": "valores predeterminados de euler y pi son: \n2.718281828459045\n3.141592653589793\n",
          "output_type": "stream"
        }
      ]
    },
    {
      "cell_type": "code",
      "source": "import string\nimport random\n\ndef randompassword():\n    chars=string.ascii_uppercase + string.ascii_lowercase + string.digits\n    size=4\n    return \"\".join(random.choice(chars) for x in range(size,20))\nn=0\nwhile n<10:\n    print(randompassword())\n    n=n+1",
      "metadata": {
        "trusted": true
      },
      "execution_count": 10,
      "outputs": [
        {
          "name": "stdout",
          "text": "ItBnkGvvzsMSdE4T\ntZ3IJDCkWZDR8LfA\nQaraDQvBc3cZdDX6\nK0NLH0nfYkDkiOZR\nzVELsjvfjKAdcQTi\nJ7hnkhgajpZW5RSQ\nsKAbfxIKkBblKjn0\nHJqDMfSwbjp2pFlj\n0hZdxAUhKqw8svfV\nrqmNfidlzjiZRFqW\n",
          "output_type": "stream"
        }
      ]
    },
    {
      "cell_type": "code",
      "source": "def timestwo(x):\n    return x*2\ndef timestree(x):\n    return x*3\ndef square(x):\n    return x*x\ndef power(x,y):\n    return x**y\nprint(timestwo(2))\nprint(timestree(3))\nprint(square(4))\nprint(power(5,2))",
      "metadata": {
        "trusted": true
      },
      "execution_count": 17,
      "outputs": [
        {
          "name": "stdout",
          "text": "4\n9\n16\n25\n",
          "output_type": "stream"
        }
      ]
    }
  ]
}